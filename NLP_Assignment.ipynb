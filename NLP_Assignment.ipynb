{
  "nbformat": 4,
  "nbformat_minor": 0,
  "metadata": {
    "colab": {
      "provenance": []
    },
    "kernelspec": {
      "name": "python3",
      "display_name": "Python 3"
    },
    "language_info": {
      "name": "python"
    }
  },
  "cells": [
    {
      "cell_type": "code",
      "source": [
        "!pip install python-docx"
      ],
      "metadata": {
        "id": "YGC9dsv-ykOP"
      },
      "execution_count": null,
      "outputs": []
    },
    {
      "cell_type": "code",
      "source": [
        "# Import Libraries\n",
        "import nltk\n",
        "from nltk.tokenize import sent_tokenize, word_tokenize\n",
        "from nltk.corpus import stopwords\n",
        "from nltk.corpus import wordnet\n",
        "from nltk.stem import PorterStemmer, WordNetLemmatizer\n",
        "from collections import Counter\n",
        "import docx\n",
        "import spacy\n",
        "import os\n",
        "from google.colab import drive"
      ],
      "metadata": {
        "id": "TbfwY4IUiE4N"
      },
      "execution_count": null,
      "outputs": []
    },
    {
      "cell_type": "code",
      "source": [
        "# Download necessary NLTK data\n",
        "nltk.download('punkt')\n",
        "nltk.download('punkt_tab')\n",
        "nltk.download('stopwords')\n",
        "nltk.download('wordnet')\n",
        "nltk.download('averaged_perceptron_tagger')"
      ],
      "metadata": {
        "colab": {
          "base_uri": "https://localhost:8080/"
        },
        "id": "ATFDZ24YiP6j",
        "outputId": "a57e607d-1077-4e8b-9217-d24b474fd407"
      },
      "execution_count": null,
      "outputs": [
        {
          "output_type": "stream",
          "name": "stderr",
          "text": [
            "[nltk_data] Downloading package punkt to /root/nltk_data...\n",
            "[nltk_data]   Unzipping tokenizers/punkt.zip.\n",
            "[nltk_data] Downloading package punkt_tab to /root/nltk_data...\n",
            "[nltk_data]   Unzipping tokenizers/punkt_tab.zip.\n",
            "[nltk_data] Downloading package stopwords to /root/nltk_data...\n",
            "[nltk_data]   Unzipping corpora/stopwords.zip.\n",
            "[nltk_data] Downloading package wordnet to /root/nltk_data...\n",
            "[nltk_data] Downloading package averaged_perceptron_tagger to\n",
            "[nltk_data]     /root/nltk_data...\n",
            "[nltk_data]   Unzipping taggers/averaged_perceptron_tagger.zip.\n"
          ]
        },
        {
          "output_type": "execute_result",
          "data": {
            "text/plain": [
              "True"
            ]
          },
          "metadata": {},
          "execution_count": 4
        }
      ]
    },
    {
      "cell_type": "code",
      "source": [
        "# Load spaCy English model for parsing\n",
        "nlp = spacy.load('en_core_web_sm')"
      ],
      "metadata": {
        "id": "LVN88T3binoI"
      },
      "execution_count": null,
      "outputs": []
    },
    {
      "cell_type": "code",
      "source": [
        "drive.mount('/content/drive')"
      ],
      "metadata": {
        "colab": {
          "base_uri": "https://localhost:8080/"
        },
        "id": "ORQDqzcfjSf7",
        "outputId": "7aa4876e-9e6a-4c70-8097-b2d0c5876ddd"
      },
      "execution_count": null,
      "outputs": [
        {
          "output_type": "stream",
          "name": "stdout",
          "text": [
            "Mounted at /content/drive\n"
          ]
        }
      ]
    },
    {
      "cell_type": "code",
      "source": [
        "# Load Word Document\n",
        "def load_docx(file_path):\n",
        "    doc = docx.Document(file_path)\n",
        "    text = []\n",
        "    for paragraph in doc.paragraphs:\n",
        "        text.append(paragraph.text)\n",
        "    return '\\n'.join(text)"
      ],
      "metadata": {
        "id": "XJBNUa_CkA-5"
      },
      "execution_count": null,
      "outputs": []
    },
    {
      "cell_type": "code",
      "source": [
        "# Update the path with your document location in Google Drive\n",
        "file_path = '/content/drive/My Drive/Colab Notebooks/nlp/sample.docx'\n",
        "document_text = load_docx(file_path)"
      ],
      "metadata": {
        "id": "kJKSWVz7kNgL"
      },
      "execution_count": null,
      "outputs": []
    },
    {
      "cell_type": "code",
      "source": [
        "print(document_text[:200])"
      ],
      "metadata": {
        "colab": {
          "base_uri": "https://localhost:8080/"
        },
        "id": "VF3sEHwPkarZ",
        "outputId": "fd30deab-3af3-427e-e60d-7871ef8a5dea"
      },
      "execution_count": null,
      "outputs": [
        {
          "output_type": "stream",
          "name": "stdout",
          "text": [
            "China's overqualified youth taking jobs as drivers, labourers and film extras.\n",
            "\n",
            "China is now a country where a high-school handyman has a master's degree in physics; a cleaner is qualified in environm\n"
          ]
        }
      ]
    },
    {
      "cell_type": "code",
      "source": [
        "# Segmentation\n",
        "sentences = sent_tokenize(document_text)"
      ],
      "metadata": {
        "id": "KluxEQ1Qksfn"
      },
      "execution_count": null,
      "outputs": []
    },
    {
      "cell_type": "code",
      "source": [
        "print(sentences[:5])"
      ],
      "metadata": {
        "colab": {
          "base_uri": "https://localhost:8080/"
        },
        "id": "T8oBT9qXlL5-",
        "outputId": "f8b4af2f-3bb0-450a-b600-4ff9814a939b"
      },
      "execution_count": null,
      "outputs": [
        {
          "output_type": "stream",
          "name": "stdout",
          "text": [
            "[\"China's overqualified youth taking jobs as drivers, labourers and film extras.\", \"China is now a country where a high-school handyman has a master's degree in physics; a cleaner is qualified in environmental planning; a delivery driver studied philosophy, and a PhD graduate from the prestigious Tsinghua University ends up applying to work as an auxiliary police officer.\", 'These are real cases in a struggling economy - and it is not hard to find more like them.', '\"My dream job was to work in investment banking,\" says Sun Zhan as he prepares to start his shift as a waiter in a hot pot restaurant in the southern city of Nanjing.', \"The 25-year-old recently graduated with a master's degree in finance.\"]\n"
          ]
        }
      ]
    },
    {
      "cell_type": "code",
      "source": [
        "# Tokenization\n",
        "# words = word_tokenize(document_text)\n",
        "words = []\n",
        "for sentence in sentences:\n",
        "    words.extend(word_tokenize(sentence))"
      ],
      "metadata": {
        "id": "HPS-mbUhlY2G"
      },
      "execution_count": null,
      "outputs": []
    },
    {
      "cell_type": "code",
      "source": [
        "print(words[:10])"
      ],
      "metadata": {
        "colab": {
          "base_uri": "https://localhost:8080/"
        },
        "id": "wFkavyq0loCv",
        "outputId": "a5bf4e94-e8c8-4653-8cfe-3b1c15c0363e"
      },
      "execution_count": null,
      "outputs": [
        {
          "output_type": "stream",
          "name": "stdout",
          "text": [
            "['China', \"'s\", 'overqualified', 'youth', 'taking', 'jobs', 'as', 'drivers', ',', 'labourers']\n"
          ]
        }
      ]
    },
    {
      "cell_type": "code",
      "source": [
        "# Remove Stopwords\n",
        "stop_words = set(stopwords.words('english'))\n",
        "filtered_words = [word for word in words if word.lower() not in stop_words and word.isalpha()]"
      ],
      "metadata": {
        "id": "X7u5Lm7tmUax"
      },
      "execution_count": null,
      "outputs": []
    },
    {
      "cell_type": "code",
      "source": [
        "print(filtered_words[:10])"
      ],
      "metadata": {
        "colab": {
          "base_uri": "https://localhost:8080/"
        },
        "id": "5coipRJOma0A",
        "outputId": "d944e0bc-cced-45be-e8a3-a91bb4c65c93"
      },
      "execution_count": null,
      "outputs": [
        {
          "output_type": "stream",
          "name": "stdout",
          "text": [
            "['China', 'overqualified', 'youth', 'taking', 'jobs', 'drivers', 'labourers', 'film', 'extras', 'China']\n"
          ]
        }
      ]
    },
    {
      "cell_type": "code",
      "source": [
        "#Stemming\n",
        "#stemmer = PorterStemmer()\n",
        "#stemmed_words = [stemmer.stem(word) for word in filtered_words]"
      ],
      "metadata": {
        "id": "iF2BeGULmlAO"
      },
      "execution_count": null,
      "outputs": []
    },
    {
      "cell_type": "code",
      "source": [
        "#print(stemmed_words[:10])"
      ],
      "metadata": {
        "id": "m4U7A9Z6mtxP"
      },
      "execution_count": null,
      "outputs": []
    },
    {
      "cell_type": "code",
      "source": [
        "# #Lemmatization\n",
        "lemmatizer = WordNetLemmatizer()\n",
        "# lemmatized_words = [lemmatizer.lemmatize(word) for word in filtered_words]\n",
        "nltk.download('averaged_perceptron_tagger_eng')\n",
        "# Function to get POS tag for lemmatization\n",
        "def get_wordnet_pos(word):\n",
        "    from nltk.corpus.reader.wordnet import NOUN, VERB, ADJ, ADV\n",
        "    tag = nltk.pos_tag([word])[0][1][0].upper()\n",
        "    return {\n",
        "        'J': ADJ,  # Adjective\n",
        "        'V': VERB,  # Verb\n",
        "        'N': NOUN,  # Noun\n",
        "        'R': ADV,   # Adverb\n",
        "    }.get(tag, NOUN)  # Default to noun\n",
        "\n",
        "lemmatized_words = [lemmatizer.lemmatize(word, get_wordnet_pos(word)) for word in filtered_words]\n"
      ],
      "metadata": {
        "colab": {
          "base_uri": "https://localhost:8080/"
        },
        "id": "WAQl_oN5m4GL",
        "outputId": "0e0d8751-0bbc-4483-b268-864c2fab8c85"
      },
      "execution_count": null,
      "outputs": [
        {
          "output_type": "stream",
          "name": "stderr",
          "text": [
            "[nltk_data] Downloading package averaged_perceptron_tagger_eng to\n",
            "[nltk_data]     /root/nltk_data...\n",
            "[nltk_data]   Unzipping taggers/averaged_perceptron_tagger_eng.zip.\n"
          ]
        }
      ]
    },
    {
      "cell_type": "code",
      "source": [
        "print(lemmatized_words[:10])"
      ],
      "metadata": {
        "colab": {
          "base_uri": "https://localhost:8080/"
        },
        "id": "qK44zykhm9hl",
        "outputId": "50dad2d9-629c-44cd-d2d7-91c752982a00"
      },
      "execution_count": null,
      "outputs": [
        {
          "output_type": "stream",
          "name": "stdout",
          "text": [
            "['China', 'overqualified', 'youth', 'take', 'job', 'driver', 'labourer', 'film', 'extra', 'China']\n"
          ]
        }
      ]
    },
    {
      "cell_type": "code",
      "source": [
        "# Parsing for Syntactic Analysis\n",
        "def parse_sentences(sentences):\n",
        "    parsed_data = []\n",
        "    for sentence in sentences:\n",
        "        doc = nlp(sentence)\n",
        "        parsed_sentence = [\n",
        "            {\n",
        "                \"text\": token.text,\n",
        "                \"lemma\": token.lemma_,\n",
        "                \"pos\": token.pos_,\n",
        "                \"tag\": token.tag_,\n",
        "                \"dependency\": token.dep_,\n",
        "            }\n",
        "            for token in doc\n",
        "        ]\n",
        "        parsed_data.append(parsed_sentence)\n",
        "    return parsed_data\n",
        "\n",
        "parsed_sentences = parse_sentences(sentences)\n"
      ],
      "metadata": {
        "id": "_2fNCzPCnJQt"
      },
      "execution_count": null,
      "outputs": []
    },
    {
      "cell_type": "code",
      "source": [
        "# Display Parsing Results for the First Sentence\n",
        "print(\"Parsed Data for the First Sentence:\")\n",
        "for token in parsed_sentences[0]:\n",
        "    print(token)"
      ],
      "metadata": {
        "colab": {
          "base_uri": "https://localhost:8080/"
        },
        "id": "e-efpjajnfP2",
        "outputId": "23a81112-7657-41b1-941d-572fb9171e90"
      },
      "execution_count": null,
      "outputs": [
        {
          "output_type": "stream",
          "name": "stdout",
          "text": [
            "Parsed Data for the First Sentence:\n",
            "{'text': 'China', 'lemma': 'China', 'pos': 'PROPN', 'tag': 'NNP', 'dependency': 'poss'}\n",
            "{'text': \"'s\", 'lemma': \"'s\", 'pos': 'PART', 'tag': 'POS', 'dependency': 'case'}\n",
            "{'text': 'overqualified', 'lemma': 'overqualifie', 'pos': 'VERB', 'tag': 'VBN', 'dependency': 'amod'}\n",
            "{'text': 'youth', 'lemma': 'youth', 'pos': 'NOUN', 'tag': 'NN', 'dependency': 'nsubj'}\n",
            "{'text': 'taking', 'lemma': 'take', 'pos': 'VERB', 'tag': 'VBG', 'dependency': 'ROOT'}\n",
            "{'text': 'jobs', 'lemma': 'job', 'pos': 'NOUN', 'tag': 'NNS', 'dependency': 'dobj'}\n",
            "{'text': 'as', 'lemma': 'as', 'pos': 'ADP', 'tag': 'IN', 'dependency': 'prep'}\n",
            "{'text': 'drivers', 'lemma': 'driver', 'pos': 'NOUN', 'tag': 'NNS', 'dependency': 'pobj'}\n",
            "{'text': ',', 'lemma': ',', 'pos': 'PUNCT', 'tag': ',', 'dependency': 'punct'}\n",
            "{'text': 'labourers', 'lemma': 'labourer', 'pos': 'NOUN', 'tag': 'NNS', 'dependency': 'conj'}\n",
            "{'text': 'and', 'lemma': 'and', 'pos': 'CCONJ', 'tag': 'CC', 'dependency': 'cc'}\n",
            "{'text': 'film', 'lemma': 'film', 'pos': 'NOUN', 'tag': 'NN', 'dependency': 'compound'}\n",
            "{'text': 'extras', 'lemma': 'extra', 'pos': 'NOUN', 'tag': 'NNS', 'dependency': 'conj'}\n",
            "{'text': '.', 'lemma': '.', 'pos': 'PUNCT', 'tag': '.', 'dependency': 'punct'}\n"
          ]
        }
      ]
    },
    {
      "cell_type": "code",
      "source": [
        "#Count Word Frequencies (Using Lemmatized Words)\n",
        "word_freq = Counter(lemmatized_words)"
      ],
      "metadata": {
        "id": "dG8D6yjRnm3r"
      },
      "execution_count": null,
      "outputs": []
    },
    {
      "cell_type": "code",
      "source": [
        "# Display Top Keywords\n",
        "top_keywords = word_freq.most_common(10)\n",
        "print(\"\\nTop Keywords and Frequencies:\")\n",
        "for keyword, freq in top_keywords:\n",
        "    print(f\"{keyword}: {freq}\")"
      ],
      "metadata": {
        "colab": {
          "base_uri": "https://localhost:8080/"
        },
        "id": "-Ssjt3YBn1o3",
        "outputId": "5decef2c-b30d-422d-c06b-196a04c3afae"
      },
      "execution_count": null,
      "outputs": [
        {
          "output_type": "stream",
          "name": "stdout",
          "text": [
            "\n",
            "Top Keywords and Frequencies:\n",
            "job: 5\n",
            "graduate: 4\n",
            "China: 3\n",
            "work: 3\n",
            "driver: 2\n",
            "master: 2\n",
            "degree: 2\n",
            "qualify: 2\n",
            "study: 2\n",
            "real: 2\n"
          ]
        }
      ]
    }
  ]
}